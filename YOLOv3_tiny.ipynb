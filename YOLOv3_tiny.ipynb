{
  "nbformat": 4,
  "nbformat_minor": 0,
  "metadata": {
    "colab": {
      "name": "YOLOv3_tiny.ipynb",
      "private_outputs": true,
      "provenance": [],
      "collapsed_sections": []
    },
    "kernelspec": {
      "name": "python3",
      "display_name": "Python 3"
    },
    "language_info": {
      "name": "python"
    },
    "accelerator": "GPU"
  },
  "cells": [
    {
      "cell_type": "markdown",
      "metadata": {
        "id": "3dv4QUfojjLO"
      },
      "source": [
        "1. Google Drive 연결 & 경로 이동"
      ]
    },
    {
      "cell_type": "code",
      "metadata": {
        "id": "7qpbGF5Nn5zX"
      },
      "source": [
        "cd /content/drive/MyDrive/YOLOv3"
      ],
      "execution_count": null,
      "outputs": []
    },
    {
      "cell_type": "markdown",
      "metadata": {
        "id": "ZzJsXczIoXQE"
      },
      "source": [
        "2. Alexey/darknet git clone"
      ]
    },
    {
      "cell_type": "code",
      "metadata": {
        "id": "tsGBOngHoNcb"
      },
      "source": [
        "!git clone https://github.com/AlexeyAB/darknet.git"
      ],
      "execution_count": null,
      "outputs": []
    },
    {
      "cell_type": "markdown",
      "metadata": {
        "id": "baPqBDnMvK6A"
      },
      "source": [
        "3. Custom YOLOv3-tiny\n",
        "- yolov3-tiny_obj.cfg 파일 수정\n",
        "- obj.data & obj.names 파일 생성\n",
        "- obj image 파일 라벨링해서 zip\n",
        "- https://ichi.pro/ko/sayongja-jijeong-yolov4-gaeche-tamjigi-gyoyug-google-colab-sayong-6710443722856\n",
        "- https://codingzzangmimi.tistory.com/76\n"
      ]
    },
    {
      "cell_type": "markdown",
      "metadata": {
        "id": "7KumSftL6vwu"
      },
      "source": [
        "OPENCV 및 GPU 활성화"
      ]
    },
    {
      "cell_type": "code",
      "metadata": {
        "id": "d7AhGmew6oS8"
      },
      "source": [
        "%cd darknet/\n",
        "!sed -i 's/OPENCV=0/OPENCV=1/' Makefile\n",
        "!sed -i 's/GPU=0/GPU=1/' Makefile\n",
        "!sed -i 's/CUDNN=0/CUDNN=1/' Makefile\n",
        "!sed -i 's/CUDNN_HALF=0/CUDNN_HALF=1/' Makefile\n",
        "!sed -i 's/LIBSO=0/LIBSO=1/' Makefile"
      ],
      "execution_count": null,
      "outputs": []
    },
    {
      "cell_type": "code",
      "metadata": {
        "id": "9c8d_yvM6s4N"
      },
      "source": [
        "!make"
      ],
      "execution_count": null,
      "outputs": []
    },
    {
      "cell_type": "markdown",
      "metadata": {
        "id": "a1pedLJO68dO"
      },
      "source": [
        "관계없는 데이터 및 cfg 폴더 정리"
      ]
    },
    {
      "cell_type": "code",
      "metadata": {
        "id": "Obwp20aK68MA"
      },
      "source": [
        "%cd data/\n",
        "!find -maxdepth 1 -type f -exec rm -rf {} \\;\n",
        "%cd ..\n",
        "%rm -rf cfg/\n",
        "%mkdir cfg"
      ],
      "execution_count": null,
      "outputs": []
    },
    {
      "cell_type": "code",
      "metadata": {
        "id": "Bm4WTIFu7Bot"
      },
      "source": [
        "## obj.zip 파일 압축 해제 (1번만 실행해도 된다.)\n",
        "!unzip /content/drive/MyDrive/YOLOv3/obj.zip -d data/"
      ],
      "execution_count": null,
      "outputs": []
    },
    {
      "cell_type": "code",
      "metadata": {
        "id": "OF4bEmms7EkJ"
      },
      "source": [
        "# darknet/cfg\n",
        "!cp /content/drive/MyDrive/YOLOv3/yolov3-tiny_obj.cfg cfg\n",
        "\n",
        "# darknet/data\n",
        "!cp /content/drive/MyDrive/YOLOv3/obj.names data\n",
        "!cp /content/drive/MyDrive/YOLOv3/obj.data  data"
      ],
      "execution_count": null,
      "outputs": []
    },
    {
      "cell_type": "code",
      "metadata": {
        "id": "lx8XTw0m7Q0j"
      },
      "source": [
        "!cp /content/drive/MyDrive/YOLOv3/process.py ."
      ],
      "execution_count": null,
      "outputs": []
    },
    {
      "cell_type": "code",
      "metadata": {
        "id": "AISvD-9y7WPf"
      },
      "source": [
        "!python process.py"
      ],
      "execution_count": null,
      "outputs": []
    },
    {
      "cell_type": "code",
      "metadata": {
        "id": "jDeDu_gv7cmD"
      },
      "source": [
        "!ls data/"
      ],
      "execution_count": null,
      "outputs": []
    },
    {
      "cell_type": "markdown",
      "metadata": {
        "id": "PJjAs6_l7dEJ"
      },
      "source": [
        "사전 훈련된 YOLOv3 tiny 가중치 다운로드\n",
        "- https://drive.google.com/file/d/18v36esoXCh-PsOKwyP2GWrpYDptDY8Zf/view\n"
      ]
    },
    {
      "cell_type": "code",
      "metadata": {
        "id": "7UR2tBNjANa2"
      },
      "source": [
        "# mAP 출력 버전 (Colab에서는 안 돌아간다..)\n",
        "# !./darknet detector train data/obj.data cfg/yolov3-tiny_obj.cfg yolov3-tiny.conv.11 -map"
      ],
      "execution_count": null,
      "outputs": []
    },
    {
      "cell_type": "code",
      "metadata": {
        "id": "t9yIFK1bhITO"
      },
      "source": [
        "!./darknet detector train data/obj.data cfg/yolov3-tiny_obj.cfg yolov3-tiny.conv.11 -dont_show -map"
      ],
      "execution_count": null,
      "outputs": []
    },
    {
      "cell_type": "markdown",
      "metadata": {
        "id": "XOObm1Y7LoxZ"
      },
      "source": [
        "중간에 런타임이 끊겼을 때:"
      ]
    },
    {
      "cell_type": "code",
      "metadata": {
        "id": "KdHmQwvvLoAk"
      },
      "source": [
        "!./darknet detector train data/obj.data cfg/yolov4-custom.cfg /content/drive/MyDrive/YOLOv3/training/yolov3-tiny_last.weights -dont_show -map"
      ],
      "execution_count": null,
      "outputs": []
    },
    {
      "cell_type": "markdown",
      "metadata": {
        "id": "-eM0b2XyMKGX"
      },
      "source": [
        "Colab 연결 해지를 막는 자바 스크립트:  \n",
        "> (Ctrl + Shift + i) 를 눌러 콘솔로 이동  \n",
        "> 다음 코드를 붙여넣고 Enter"
      ]
    },
    {
      "cell_type": "code",
      "metadata": {
        "id": "aLZK8wzoMOkb"
      },
      "source": [
        "function ClickConnect(){\n",
        "console.log(\"Working\"); \n",
        "document\n",
        "  .querySelector('#top-toolbar > colab-connect-button')\n",
        "  .shadowRoot.querySelector('#connect')\n",
        "  .click() \n",
        "}\n",
        "setInterval(ClickConnect,60000)"
      ],
      "execution_count": null,
      "outputs": []
    },
    {
      "cell_type": "markdown",
      "metadata": {
        "id": "NKNPx64EEeSe"
      },
      "source": [
        "# 성능 확인"
      ]
    },
    {
      "cell_type": "markdown",
      "metadata": {
        "id": "Hk5LD_kAEzx9"
      },
      "source": [
        "1. chart.png 파일 을 보면 훈련 된 모든 가중치의 성능을 확인할 수 있다 ."
      ]
    },
    {
      "cell_type": "code",
      "metadata": {
        "id": "JZdWtbM7D09N"
      },
      "source": [
        "import cv2\n",
        "import matplotlib.pyplot as plt\n",
        "\n",
        "def imShow(path):\n",
        "  %matplotlib inline\n",
        "  image = cv2.imread(path)\n",
        "  height, width = image.shape[:2]\n",
        "  resized_image = cv2.resize(image,(3*width, 3*height), interpolation = cv2.INTER_CUBIC)\n",
        "  fig = plt.gcf()\n",
        "  fig.set_size_inches(18, 10)\n",
        "  plt.axis(\"off\")\n",
        "  plt.imshow(cv2.cvtColor(resized_image, cv2.COLOR_BGR2RGB))\n",
        "  plt.show()"
      ],
      "execution_count": null,
      "outputs": []
    },
    {
      "cell_type": "code",
      "metadata": {
        "id": "GNtiQ-oyD2wr"
      },
      "source": [
        "imShow('chart.png')"
      ],
      "execution_count": null,
      "outputs": []
    },
    {
      "cell_type": "markdown",
      "metadata": {
        "id": "CyC-wF9SE3X6"
      },
      "source": [
        "2. MAP (평균 정밀도) 확인\n",
        "- yolov3-custom_4000.weights, yolov4-custom_5000.weights, yolov4-custom_6000.weights 등에 대해 1000 번 반복 할 때마다 저장된 모든 가중치에 대해 mAP를 확인할 수 있다.\n",
        "- 이렇게하면 어떤 가중치 파일이 최상의 결과를 제공하는지 찾을 수 있다.\n",
        "- mAP가 높을수록 좋다."
      ]
    },
    {
      "cell_type": "code",
      "metadata": {
        "id": "LonmJ1DdOWG7"
      },
      "source": [
        "!./darknet detector map data/obj.data cfg/yolov3-tiny_obj.cfg /content/drive/MyDrive/YOLOv3/training/yolov3-tiny_obj_1000.weights -points 0"
      ],
      "execution_count": null,
      "outputs": []
    },
    {
      "cell_type": "code",
      "metadata": {
        "id": "fn9uK4kYEAWL"
      },
      "source": [
        "!./darknet detector map data/obj.data cfg/yolov3-tiny_obj.cfg /content/drive/MyDrive/YOLOv3/training/yolov3-tiny_obj_last.weights -points 0"
      ],
      "execution_count": null,
      "outputs": []
    },
    {
      "cell_type": "code",
      "metadata": {
        "id": "xoXfIMn-OT-S"
      },
      "source": [
        "!./darknet detector map data/obj.data cfg/yolov3-tiny_obj.cfg /content/drive/MyDrive/YOLOv3/training/yolov3-tiny_obj_best.weights -points 0"
      ],
      "execution_count": null,
      "outputs": []
    },
    {
      "cell_type": "markdown",
      "metadata": {
        "id": "Z9PhFPyhHO_z"
      },
      "source": [
        "3. cfg 파일 Test 주석 처리 풀고 테스트하기"
      ]
    },
    {
      "cell_type": "code",
      "metadata": {
        "id": "OKrFFQY6HTdo"
      },
      "source": [
        "%cd cfg\n",
        "!sed -i 's/batch=64/batch=1/' yolov3-tiny_obj.cfg\n",
        "!sed -i 's/subdivisions=16/subdivisions=1/' yolov3-tiny_obj.cfg\n",
        "%cd .."
      ],
      "execution_count": null,
      "outputs": []
    }
  ]
}