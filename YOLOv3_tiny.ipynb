{
  "nbformat": 4,
  "nbformat_minor": 0,
  "metadata": {
    "colab": {
      "name": "YOLOv3_tiny.ipynb",
      "private_outputs": true,
      "provenance": [],
      "collapsed_sections": []
    },
    "kernelspec": {
      "name": "python3",
      "display_name": "Python 3"
    },
    "language_info": {
      "name": "python"
    },
    "accelerator": "GPU"
  },
  "cells": [
    {
      "cell_type": "markdown",
      "metadata": {
        "id": "3dv4QUfojjLO"
      },
      "source": [
        "1. Google Drive 연결 & 경로 이동"
      ]
    },
    {
      "cell_type": "code",
      "metadata": {
        "id": "7qpbGF5Nn5zX"
      },
      "source": [
        "cd /content/drive/MyDrive/YOLOv3"
      ],
      "execution_count": null,
      "outputs": []
    },
    {
      "cell_type": "markdown",
      "metadata": {
        "id": "ZzJsXczIoXQE"
      },
      "source": [
        "2. Alexey/darknet git clone"
      ]
    },
    {
      "cell_type": "code",
      "metadata": {
        "id": "tsGBOngHoNcb"
      },
      "source": [
        "!git clone https://github.com/AlexeyAB/darknet.git"
      ],
      "execution_count": null,
      "outputs": []
    },
    {
      "cell_type": "markdown",
      "metadata": {
        "id": "baPqBDnMvK6A"
      },
      "source": [
        "3. Custom YOLOv3-tiny\n",
        "- yolov3-tiny_obj.cfg 파일 수정\n",
        "- obj.data & obj.names 파일 생성\n",
        "- obj image 파일 라벨링해서 zip\n",
        "- https://ichi.pro/ko/sayongja-jijeong-yolov4-gaeche-tamjigi-gyoyug-google-colab-sayong-6710443722856\n",
        "- https://codingzzangmimi.tistory.com/76\n"
      ]
    },
    {
      "cell_type": "markdown",
      "metadata": {
        "id": "7KumSftL6vwu"
      },
      "source": [
        "OPENCV 및 GPU 활성화"
      ]
    },
    {
      "cell_type": "code",
      "metadata": {
        "id": "d7AhGmew6oS8"
      },
      "source": [
        "%cd darknet/\n",
        "!sed -i 's/OPENCV=0/OPENCV=1/' Makefile\n",
        "!sed -i 's/GPU=0/GPU=1/' Makefile\n",
        "!sed -i 's/CUDNN=0/CUDNN=1/' Makefile\n",
        "!sed -i 's/CUDNN_HALF=0/CUDNN_HALF=1/' Makefile\n",
        "!sed -i 's/LIBSO=0/LIBSO=1/' Makefile"
      ],
      "execution_count": null,
      "outputs": []
    },
    {
      "cell_type": "code",
      "metadata": {
        "id": "9c8d_yvM6s4N"
      },
      "source": [
        "!make"
      ],
      "execution_count": null,
      "outputs": []
    },
    {
      "cell_type": "markdown",
      "metadata": {
        "id": "a1pedLJO68dO"
      },
      "source": [
        "관계없는 데이터 및 cfg 폴더 정리"
      ]
    },
    {
      "cell_type": "code",
      "metadata": {
        "id": "Obwp20aK68MA"
      },
      "source": [
        "%cd data/\n",
        "!find -maxdepth 1 -type f -exec rm -rf {} \\;\n",
        "%cd ..\n",
        "%rm -rf cfg/\n",
        "%mkdir cfg"
      ],
      "execution_count": null,
      "outputs": []
    },
    {
      "cell_type": "code",
      "metadata": {
        "id": "Bm4WTIFu7Bot"
      },
      "source": [
        "!unzip /content/drive/MyDrive/YOLOv3/obj.zip -d data/"
      ],
      "execution_count": null,
      "outputs": []
    },
    {
      "cell_type": "code",
      "metadata": {
        "id": "OF4bEmms7EkJ"
      },
      "source": [
        "!cp /content/drive/MyDrive/YOLOv3/yolov3-tiny_obj.cfg cfg"
      ],
      "execution_count": null,
      "outputs": []
    },
    {
      "cell_type": "code",
      "metadata": {
        "id": "DczFVVmw7NHX"
      },
      "source": [
        "!cp /content/drive/MyDrive/YOLOv3/obj.names data\n",
        "!cp /content/drive/MyDrive/YOLOv3/obj.data  data"
      ],
      "execution_count": null,
      "outputs": []
    },
    {
      "cell_type": "code",
      "metadata": {
        "id": "lx8XTw0m7Q0j"
      },
      "source": [
        "!cp /content/drive/MyDrive/YOLOv3/process.py ."
      ],
      "execution_count": null,
      "outputs": []
    },
    {
      "cell_type": "code",
      "metadata": {
        "id": "AISvD-9y7WPf"
      },
      "source": [
        "!python process.py"
      ],
      "execution_count": null,
      "outputs": []
    },
    {
      "cell_type": "code",
      "metadata": {
        "id": "jDeDu_gv7cmD"
      },
      "source": [
        "!ls data/"
      ],
      "execution_count": null,
      "outputs": []
    },
    {
      "cell_type": "markdown",
      "metadata": {
        "id": "PJjAs6_l7dEJ"
      },
      "source": [
        "사전 훈련된 YOLOv3 tiny 가중치 다운로드\n",
        "- https://drive.google.com/file/d/18v36esoXCh-PsOKwyP2GWrpYDptDY8Zf/view\n"
      ]
    },
    {
      "cell_type": "code",
      "metadata": {
        "id": "7UR2tBNjANa2"
      },
      "source": [
        "# mAP 출력 버전 (Colab에서는 안 돌아간다..)\n",
        "!./darknet detector train data/obj.data cfg/yolov3-tiny_obj.cfg yolov3-tiny.conv.11 -map"
      ],
      "execution_count": null,
      "outputs": []
    },
    {
      "cell_type": "code",
      "metadata": {
        "id": "t9yIFK1bhITO"
      },
      "source": [
        "!./darknet detector train data/obj.data cfg/yolov3-tiny_obj.cfg yolov3-tiny.conv.11 -dont_show -map"
      ],
      "execution_count": null,
      "outputs": []
    }
  ]
}