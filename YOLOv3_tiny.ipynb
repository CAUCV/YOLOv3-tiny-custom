{
  "nbformat": 4,
  "nbformat_minor": 0,
  "metadata": {
    "colab": {
      "name": "YOLOv3_tiny.ipynb",
      "private_outputs": true,
      "provenance": [],
      "collapsed_sections": [],
      "toc_visible": true
    },
    "kernelspec": {
      "name": "python3",
      "display_name": "Python 3"
    },
    "language_info": {
      "name": "python"
    },
    "accelerator": "GPU"
  },
  "cells": [
    {
      "cell_type": "markdown",
      "metadata": {
        "id": "3dv4QUfojjLO"
      },
      "source": [
        "# Google Drive 연결 & 해당 경로 이동"
      ]
    },
    {
      "cell_type": "code",
      "metadata": {
        "id": "8pFChs3cx0GS"
      },
      "source": [
        "from google.colab import drive\n",
        "drive.mount('/content/drive')"
      ],
      "execution_count": null,
      "outputs": []
    },
    {
      "cell_type": "code",
      "metadata": {
        "id": "7qpbGF5Nn5zX"
      },
      "source": [
        "cd /content/drive/MyDrive/YOLOv3"
      ],
      "execution_count": null,
      "outputs": []
    },
    {
      "cell_type": "markdown",
      "metadata": {
        "id": "ZzJsXczIoXQE"
      },
      "source": [
        "# 구글 드라이브에 darknet clone\n",
        "- Alexey/darknet github 를 사용\n",
        "- 구글 드라이브에 darknet 파일이 없는 경우에만 실행 (처음에만 실행)"
      ]
    },
    {
      "cell_type": "code",
      "metadata": {
        "id": "tsGBOngHoNcb"
      },
      "source": [
        "!git clone https://github.com/AlexeyAB/darknet.git"
      ],
      "execution_count": null,
      "outputs": []
    },
    {
      "cell_type": "markdown",
      "metadata": {
        "id": "baPqBDnMvK6A"
      },
      "source": [
        "# 마스크 인식 YOLOv3-tiny 모델 생성\n",
        "- **YOLOv3-tiny Custom 모델 생성 과정**\n",
        "> 1. 마스크 착용자 & 미착용자 데이터 셋 수집 (각 class 당 최소 5000장)\n",
        "> 2. 이미지 labeling (openLabeling 오픈소스 Tool 사용)\n",
        "> 3. yolov3-tiny_obj.cfg 파일 수정 (class 개수에 맞게 수정  \n",
        "> 4. obj.data & obj.names 파일 생성\n",
        "> 5. process.py 파일 생성  \n",
        "> 6. 생성한 모든 파일 구글 드라이브 yolo 폴더에 업로드 (obj.zip, obj.data, obj.names, process.py) \n",
        "\n",
        "\n",
        "- [참고 링크](https://ichi.pro/ko/sayongja-jijeong-yolov4-gaeche-tamjigi-gyoyug-google-colab-sayong-6710443722856)"
      ]
    },
    {
      "cell_type": "markdown",
      "metadata": {
        "id": "7KumSftL6vwu"
      },
      "source": [
        "1. Makefile에서 OPENCV 및 GPU 활성화"
      ]
    },
    {
      "cell_type": "code",
      "metadata": {
        "id": "MuAU4cEqh6YN"
      },
      "source": [
        "%cd darknet/"
      ],
      "execution_count": null,
      "outputs": []
    },
    {
      "cell_type": "code",
      "metadata": {
        "id": "d7AhGmew6oS8"
      },
      "source": [
        "!sed -i 's/OPENCV=0/OPENCV=1/' Makefile\n",
        "!sed -i 's/GPU=0/GPU=1/' Makefile\n",
        "!sed -i 's/CUDNN=0/CUDNN=1/' Makefile\n",
        "!sed -i 's/CUDNN_HALF=0/CUDNN_HALF=1/' Makefile\n",
        "!sed -i 's/LIBSO=0/LIBSO=1/' Makefile"
      ],
      "execution_count": null,
      "outputs": []
    },
    {
      "cell_type": "code",
      "metadata": {
        "id": "9c8d_yvM6s4N"
      },
      "source": [
        "!make"
      ],
      "execution_count": null,
      "outputs": []
    },
    {
      "cell_type": "markdown",
      "metadata": {
        "id": "a1pedLJO68dO"
      },
      "source": [
        "2. 관계없는 데이터 및 cfg 폴더 정리"
      ]
    },
    {
      "cell_type": "code",
      "metadata": {
        "id": "Obwp20aK68MA"
      },
      "source": [
        "%cd data/\n",
        "!find -maxdepth 1 -type f -exec rm -rf {} \\;\n",
        "%cd ..\n",
        "%rm -rf cfg/\n",
        "%mkdir cfg"
      ],
      "execution_count": null,
      "outputs": []
    },
    {
      "cell_type": "markdown",
      "metadata": {
        "id": "u6QSsjuNogQr"
      },
      "source": [
        "3. 업로드한 obj.zip 파일 압축 해제 (1번만 실행해도 된다.) "
      ]
    },
    {
      "cell_type": "code",
      "metadata": {
        "id": "Bm4WTIFu7Bot"
      },
      "source": [
        "!unzip /content/drive/MyDrive/YOLOv3/obj.zip -d data/"
      ],
      "execution_count": null,
      "outputs": []
    },
    {
      "cell_type": "markdown",
      "metadata": {
        "id": "vRY-bURxoqO9"
      },
      "source": [
        "4. 작성한 cfg파일과 obj.names, obj.data 파일을 각각의 위치로 복사 \n",
        "- cfg 파일 위치: darknet/cfg\n",
        "- obj.names & obj.data 파일 위치: darknet/data"
      ]
    },
    {
      "cell_type": "code",
      "metadata": {
        "id": "OF4bEmms7EkJ"
      },
      "source": [
        "# darknet/cfg\n",
        "!cp /content/drive/MyDrive/YOLOv3/yolov3-tiny_obj.cfg cfg\n",
        "\n",
        "# darknet/data\n",
        "!cp /content/drive/MyDrive/YOLOv3/obj.names data\n",
        "!cp /content/drive/MyDrive/YOLOv3/obj.data  data"
      ],
      "execution_count": null,
      "outputs": []
    },
    {
      "cell_type": "markdown",
      "metadata": {
        "id": "cDLrAozupIVp"
      },
      "source": [
        "5. 작성한 process.py 파일을 darknet 폴더로 복사"
      ]
    },
    {
      "cell_type": "code",
      "metadata": {
        "id": "lx8XTw0m7Q0j"
      },
      "source": [
        "!cp /content/drive/MyDrive/YOLOv3/process.py ."
      ],
      "execution_count": null,
      "outputs": []
    },
    {
      "cell_type": "markdown",
      "metadata": {
        "id": "oNe6pr7RpmwY"
      },
      "source": [
        "6. process.py 실행"
      ]
    },
    {
      "cell_type": "code",
      "metadata": {
        "id": "AISvD-9y7WPf"
      },
      "source": [
        "!python process.py"
      ],
      "execution_count": null,
      "outputs": []
    },
    {
      "cell_type": "code",
      "metadata": {
        "id": "jDeDu_gv7cmD"
      },
      "source": [
        "# darknet/data 폴더 안의 파일 확인 (제대로 파일이 들어 있는지 확인)\n",
        "!ls data/"
      ],
      "execution_count": null,
      "outputs": []
    },
    {
      "cell_type": "markdown",
      "metadata": {
        "id": "PJjAs6_l7dEJ"
      },
      "source": [
        "7. 학습에 필요한 **yolov3-tiny.conv.11** 파일 다운로드\n",
        "- darknet 폴더 안에 업로드\n",
        "- [다운로드 링크](https://drive.google.com/file/d/18v36esoXCh-PsOKwyP2GWrpYDptDY8Zf/view)  (출처: Alexey/darknet github)\n"
      ]
    },
    {
      "cell_type": "markdown",
      "metadata": {
        "id": "SJZunShyrERH"
      },
      "source": [
        "# 모델 학습"
      ]
    },
    {
      "cell_type": "markdown",
      "metadata": {
        "id": "-eM0b2XyMKGX"
      },
      "source": [
        "## Colab 연결 해지를 막는 자바 스크립트:  \n",
        "1. (Ctrl + Shift + i) 를 눌러 콘솔로 이동 - Chrome 기준\n",
        "2. 다음 셀의 코드를 붙여넣고 Enter"
      ]
    },
    {
      "cell_type": "code",
      "metadata": {
        "id": "aLZK8wzoMOkb"
      },
      "source": [
        "function ClickConnect(){\n",
        "console.log(\"Working\"); \n",
        "document\n",
        "  .querySelector('#top-toolbar > colab-connect-button')\n",
        "  .shadowRoot.querySelector('#connect')\n",
        "  .click() \n",
        "}\n",
        "setInterval(ClickConnect,60000)"
      ],
      "execution_count": null,
      "outputs": []
    },
    {
      "cell_type": "markdown",
      "metadata": {
        "id": "kqYHCbcTreri"
      },
      "source": [
        "## 학습"
      ]
    },
    {
      "cell_type": "markdown",
      "metadata": {
        "id": "9eXKTOrsrI8r"
      },
      "source": [
        "- 처음 학습 시작할 때:"
      ]
    },
    {
      "cell_type": "code",
      "metadata": {
        "id": "t9yIFK1bhITO"
      },
      "source": [
        "!./darknet detector train data/obj.data cfg/yolov3-tiny_obj.cfg yolov3-tiny.conv.11 -dont_show -map\n",
        "\n",
        "# mAP 출력 버전 (Colab에서는 안 돌아간다..)\n",
        "# !./darknet detector train data/obj.data cfg/yolov3-tiny_obj.cfg yolov3-tiny.conv.11 -map"
      ],
      "execution_count": null,
      "outputs": []
    },
    {
      "cell_type": "markdown",
      "metadata": {
        "id": "XOObm1Y7LoxZ"
      },
      "source": [
        "- 중간에 런타임이 끊겼을 때:"
      ]
    },
    {
      "cell_type": "code",
      "metadata": {
        "id": "KdHmQwvvLoAk"
      },
      "source": [
        "!./darknet detector train data/obj.data cfg/yolov3-tiny_obj.cfg /content/drive/MyDrive/YOLOv3/training/yolov3-tiny_obj_last.weights -dont_show -map"
      ],
      "execution_count": null,
      "outputs": []
    },
    {
      "cell_type": "markdown",
      "metadata": {
        "id": "NKNPx64EEeSe"
      },
      "source": [
        "# 모델 학습 결과 확인"
      ]
    },
    {
      "cell_type": "markdown",
      "metadata": {
        "id": "Hk5LD_kAEzx9"
      },
      "source": [
        "# chart.png\n",
        "- 학습되는 모든 과정에서의 mAP 와 loss의 변화를 그래프로 확인할 수 있다 ."
      ]
    },
    {
      "cell_type": "code",
      "metadata": {
        "id": "JZdWtbM7D09N"
      },
      "source": [
        "import cv2\n",
        "import matplotlib.pyplot as plt\n",
        "\n",
        "def imShow(path):\n",
        "  %matplotlib inline\n",
        "  image = cv2.imread(path)\n",
        "  height, width = image.shape[:2]\n",
        "  resized_image = cv2.resize(image,(3*width, 3*height), interpolation = cv2.INTER_CUBIC)\n",
        "  fig = plt.gcf()\n",
        "  fig.set_size_inches(18, 10)\n",
        "  plt.axis(\"off\")\n",
        "  plt.imshow(cv2.cvtColor(resized_image, cv2.COLOR_BGR2RGB))\n",
        "  plt.show()"
      ],
      "execution_count": null,
      "outputs": []
    },
    {
      "cell_type": "code",
      "metadata": {
        "id": "GNtiQ-oyD2wr"
      },
      "source": [
        "imShow('chart.png')"
      ],
      "execution_count": null,
      "outputs": []
    },
    {
      "cell_type": "markdown",
      "metadata": {
        "id": "CyC-wF9SE3X6"
      },
      "source": [
        "## mAP (평균 정밀도) 확인\n",
        "- training 폴더에 1000번 반복될 때마다 저장된 가중치들에 대해 mAP를 확인할 수 있다. (예: yolov3-custom_4000.weights)\n",
        "- yolov3-custom_best.weights : 최상의 결과를 내는 가중치\n",
        "- mAP는 높을수록 좋다."
      ]
    },
    {
      "cell_type": "code",
      "metadata": {
        "id": "LonmJ1DdOWG7"
      },
      "source": [
        "!./darknet detector map data/obj.data cfg/yolov3-tiny_obj.cfg /content/drive/MyDrive/YOLOv3/training/yolov3-tiny_obj_best.weights -points 0"
      ],
      "execution_count": null,
      "outputs": []
    },
    {
      "cell_type": "markdown",
      "metadata": {
        "id": "Z9PhFPyhHO_z"
      },
      "source": [
        "## cfg 파일 Test 주석 처리 풀고 테스트하기"
      ]
    },
    {
      "cell_type": "code",
      "metadata": {
        "id": "OKrFFQY6HTdo"
      },
      "source": [
        "%cd cfg\n",
        "!sed -i 's/batch=64/batch=1/' yolov3-tiny_obj.cfg\n",
        "!sed -i 's/subdivisions=16/subdivisions=1/' yolov3-tiny_obj.cfg\n",
        "%cd .."
      ],
      "execution_count": null,
      "outputs": []
    }
  ]
}